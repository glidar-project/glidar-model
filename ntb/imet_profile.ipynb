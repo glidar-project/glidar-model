{
 "cells": [
  {
   "cell_type": "code",
   "execution_count": null,
   "metadata": {},
   "outputs": [],
   "source": [
    "import matplotlib.pyplot as plt\n",
    "import numpy as np\n",
    "from metpy.units import units\n",
    "\n",
    "import metpy.calc as mpcalc\n",
    "\n",
    "from glidar_parse.imet_parser import iMetParser\n",
    "\n",
    "from glidar_model.convection_model import ModelParams, ThermalModel\n",
    "from glidar_model.parcel_profile import CachedParcelProfile, ParcelProfile, ParcelProfileBuilder, SimpleParcelProfile\n",
    "from glidar_model.synthetic_profile import SyntheticProfileBuilder, SyntheticProfileParams\n",
    "from glidar_model.sounding_profile import SoundingProfileBuilder\n",
    "from glidar_model.background_profile import BackgroundProfile, StaticBackroundProfileBuilder\n",
    "\n",
    "from glidar_model.imet_profile import resampled_imet_backround\n",
    "from glidar_model.model_manager import Model\n",
    "\n",
    "import pandas as pd"
   ]
  },
  {
   "cell_type": "code",
   "execution_count": null,
   "metadata": {},
   "outputs": [],
   "source": [
    "imet = pd.read_csv('../Data/corrected_profiles/iMet_profile_2022-05-16_09-14-55.csv')\n",
    "\n",
    "profile = resampled_imet_backround(imet)\n",
    "parcel = SimpleParcelProfile(profile.pressure)\n",
    "\n",
    "params = ModelParams(profile.temperature[0],\n",
    "                     0.7 * units.delta_degree_Celsius,\n",
    "                     profile.dewpoint[0],\n",
    "                     0 * units.delta_degree_Celsius,\n",
    "                     profile.altitude[0],\n",
    "                     drag_coeff=0.01,\n",
    "                     entrainment_coeff=0.001,\n",
    "                     humidity_entrainment_coeff=0)\n",
    "\n",
    "model = ThermalModel()\n",
    "result = model.run_model(profile, parcel.get_profile(params), params)\n"
   ]
  },
  {
   "cell_type": "code",
   "execution_count": null,
   "metadata": {},
   "outputs": [],
   "source": [
    "background_profile = result.background_profile\n",
    "parcel_profile = result.parcel_profile\n",
    "ent_profile = result.entrained_profile\n",
    "\n",
    "plt.plot(figsize=(10,10))\n",
    "\n",
    "plt.plot(background_profile.temperature, background_profile.pressure, 'r-', label='temperature')\n",
    "plt.plot(background_profile.dewpoint, background_profile.pressure, 'g-', label = 'dewpoint')\n",
    "\n",
    "plt.plot(parcel_profile.temperature, parcel_profile.pressure, 'r:', label='temperature')\n",
    "plt.plot(parcel_profile.dewpoint, parcel_profile.pressure, 'g:', label = 'dewpoint')\n",
    "\n",
    "plt.plot(ent_profile.temperature, ent_profile.pressure, 'r,', label='temperature')\n",
    "plt.plot(ent_profile.dewpoint, ent_profile.pressure, 'g,', label = 'dewpoint')\n",
    "\n",
    "\n",
    "\n",
    "plt.gca().invert_yaxis()\n",
    "plt.show()"
   ]
  },
  {
   "cell_type": "code",
   "execution_count": null,
   "metadata": {},
   "outputs": [],
   "source": [
    "w, z = result.velocity_profile\n",
    "\n",
    "plt.plot(w, z, 'o')"
   ]
  },
  {
   "cell_type": "code",
   "execution_count": null,
   "metadata": {},
   "outputs": [],
   "source": [
    "background_profile = result.background_profile\n",
    "parcel_profile = result.parcel_profile\n",
    "ent_profile = result.entrained_profile\n",
    "\n",
    "plt.plot(figsize=(10,10))\n",
    "\n",
    "plt.plot(background_profile.temperature, background_profile.altitude, 'r-', label='temperature')\n",
    "plt.plot(background_profile.dewpoint, background_profile.altitude, 'g-', label = 'dewpoint')\n",
    "\n",
    "plt.plot(parcel_profile.temperature, background_profile.altitude, 'r:', label='temperature')\n",
    "plt.plot(parcel_profile.dewpoint, background_profile.altitude, 'g:', label = 'dewpoint')\n",
    "\n",
    "plt.plot(ent_profile.temperature, background_profile.altitude, 'r,', label='temperature')\n",
    "plt.plot(ent_profile.dewpoint, background_profile.altitude, 'g,', label = 'dewpoint')\n",
    "\n",
    "plt.show()"
   ]
  },
  {
   "cell_type": "code",
   "execution_count": null,
   "metadata": {},
   "outputs": [],
   "source": []
  },
  {
   "cell_type": "code",
   "execution_count": null,
   "metadata": {},
   "outputs": [],
   "source": []
  }
 ],
 "metadata": {
  "kernelspec": {
   "display_name": "Python 3 (ipykernel)",
   "language": "python",
   "name": "python3"
  },
  "language_info": {
   "codemirror_mode": {
    "name": "ipython",
    "version": 3
   },
   "file_extension": ".py",
   "mimetype": "text/x-python",
   "name": "python",
   "nbconvert_exporter": "python",
   "pygments_lexer": "ipython3",
   "version": "3.10.2"
  },
  "orig_nbformat": 4
 },
 "nbformat": 4,
 "nbformat_minor": 2
}
